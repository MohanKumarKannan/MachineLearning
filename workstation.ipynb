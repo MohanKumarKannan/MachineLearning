{
 "cells": [
  {
   "cell_type": "code",
   "execution_count": 10,
   "metadata": {},
   "outputs": [
    {
     "name": "stdout",
     "output_type": "stream",
     "text": [
      "Extracting /tmp/data/train-images-idx3-ubyte.gz\n",
      "Extracting /tmp/data/train-labels-idx1-ubyte.gz\n",
      "Extracting /tmp/data/t10k-images-idx3-ubyte.gz\n",
      "Extracting /tmp/data/t10k-labels-idx1-ubyte.gz\n",
      "(55000, 784)\n",
      "(55000, 10)\n",
      "Y value is : 5\n"
     ]
    },
    {
     "data": {
      "image/png": "[encoded data removed]",
      "text/plain": [
       "<Figure size 432x288 with 1 Axes>"
      ]
     },
     "metadata": {},
     "output_type": "display_data"
    }
   ],
   "source": [
    "from __future__ import print_function\n",
    "from matplotlib import pyplot as plt\n",
    "import numpy as np\n",
    "from PIL import Image\n",
    "\n",
    "%matplotlib inline\n",
    "# Import MNIST data\n",
    "from tensorflow.examples.tutorials.mnist import input_data\n",
    "mnist = input_data.read_data_sets(\"/tmp/data/\", one_hot=True)\n",
    "\n",
    "import tensorflow as tf\n",
    "print(mnist.train.images.shape)\n",
    "print(mnist.train.labels.shape)\n",
    "#print(mnist.train.images[5]) - This will be an 1D arry of 28 X 28 = 784\n",
    "\n",
    "#print(mnist.train.images[m])\n",
    "\n",
    "m = 56\n",
    "imagea = np.reshape(mnist.train.images[m],[28,28])\n",
    "imagea.shape\n",
    "#plt.imshow(imagea,cmap='Greys_r')\n",
    "plt.imshow(imagea)\n",
    "yvalue = mnist.train.labels[m]\n",
    "l =np.array(yvalue).tolist().index(1)\n",
    "print('Y value is :',l)\n"
   ]
  },
  {
   "cell_type": "code",
   "execution_count": 60,
   "metadata": {},
   "outputs": [
    {
     "ename": "AttributeError",
     "evalue": "'tuple' object has no attribute 'T'",
     "output_type": "error",
     "traceback": [
      "\u001b[1;31m---------------------------------------------------------------------------\u001b[0m",
      "\u001b[1;31mAttributeError\u001b[0m                            Traceback (most recent call last)",
      "\u001b[1;32m<ipython-input-60-f4dfd5767740>\u001b[0m in \u001b[0;36m<module>\u001b[1;34m()\u001b[0m\n\u001b[0;32m     16\u001b[0m \u001b[1;31m### --- SVM\u001b[0m\u001b[1;33m\u001b[0m\u001b[1;33m\u001b[0m\u001b[0m\n\u001b[0;32m     17\u001b[0m \u001b[1;33m\u001b[0m\u001b[0m\n\u001b[1;32m---> 18\u001b[1;33m \u001b[0mprint\u001b[0m\u001b[1;33m(\u001b[0m\u001b[0mx_train\u001b[0m\u001b[1;33m.\u001b[0m\u001b[0mshape\u001b[0m\u001b[1;33m.\u001b[0m\u001b[0mT\u001b[0m\u001b[1;33m,\u001b[0m\u001b[0my_train\u001b[0m\u001b[1;33m.\u001b[0m\u001b[0mshape\u001b[0m\u001b[1;33m)\u001b[0m\u001b[1;33m\u001b[0m\u001b[0m\n\u001b[0m\u001b[0;32m     19\u001b[0m \u001b[0mclf\u001b[0m\u001b[1;33m=\u001b[0m\u001b[0msvm\u001b[0m\u001b[1;33m.\u001b[0m\u001b[0mSVC\u001b[0m\u001b[1;33m(\u001b[0m\u001b[1;33m)\u001b[0m\u001b[1;33m\u001b[0m\u001b[0m\n\u001b[0;32m     20\u001b[0m \u001b[0mclf\u001b[0m\u001b[1;33m.\u001b[0m\u001b[0mfit\u001b[0m\u001b[1;33m(\u001b[0m\u001b[0mx_train\u001b[0m\u001b[1;33m,\u001b[0m\u001b[0my_train\u001b[0m\u001b[1;33m)\u001b[0m\u001b[1;33m\u001b[0m\u001b[0m\n",
      "\u001b[1;31mAttributeError\u001b[0m: 'tuple' object has no attribute 'T'"
     ]
    }
   ],
   "source": [
    "from sklearn.ensemble import RandomForestClassifier\n",
    "from sklearn.cross_validation import train_test_split\n",
    "from sklearn import svm\n",
    "\n",
    "#x_train, x_test, y_train, y_test = train_test_split(mnist.train.images, mnist.train.labels, test_size=0.2, random_state=4)\n",
    "x_train = mnist.train.images\n",
    "x_test = mnist.test.images\n",
    "y_train = mnist.train.labels\n",
    "y_test = mnist.test.labels\n",
    "\n",
    "###--- Random Forest\n",
    "###rf=RandomForestClassifier(n_estimators=100)\n",
    "###rf.fit(x_train,y_train)\n",
    "###pred=rf.predict(x_test)\n",
    "\n",
    "### --- SVM\n",
    "\n",
    "print(x_train.shape.T,y_train.shape)\n",
    "clf=svm.SVC()\n",
    "clf.fit(x_train,y_train)\n",
    "pred=clf.predict(x_test)\n"
   ]
  },
  {
   "cell_type": "code",
   "execution_count": 54,
   "metadata": {},
   "outputs": [
    {
     "name": "stdout",
     "output_type": "stream",
     "text": [
      "952 9000 48\n",
      "0.9946949602122016\n"
     ]
    }
   ],
   "source": [
    "#s=y_test.values\n",
    "#i = 4\n",
    "#print(np.array(pred[i]).tolist().index(1))\n",
    "#print(np.array(y_test[i]).tolist().index(1))\n",
    "count=match=unmatch=0\n",
    "#print(pred[i])\n",
    "#plt.imshow(np.reshape(x_test[0],[28,28]))\n",
    "#for i in range(len(pred)):\n",
    "#    if pred[i]==y_test[i]:\n",
    "#        count=count+1\n",
    "for i in range(0,len(pred)):\n",
    "    #print(pred[i])\n",
    "    if sum(pred[i])== 0:\n",
    "        #print(i)\n",
    "        count+=1\n",
    "    elif np.array(pred[i]).tolist().index(1) == np.array(y_test[i]).tolist().index(1):\n",
    "        match+=1\n",
    "    else:\n",
    "        unmatch+=1\n",
    "        #plt.imshow(np.reshape(x_test[i],[28,28]))        \n",
    "    #p=np.array(pred[i]).tolist().index(1)\n",
    "    #y =np.array(y_test[i]).tolist().index(1)\n",
    "    #if p==y:\n",
    "    #    count+=1\n",
    "\n",
    "print(count, match,unmatch)\n",
    "r = match/(len(pred)-count)\n",
    "print(r)"
   ]
  },
  {
   "cell_type": "code",
   "execution_count": null,
   "metadata": {},
   "outputs": [],
   "source": []
  },
  {
   "cell_type": "code",
   "execution_count": null,
   "metadata": {},
   "outputs": [],
   "source": []
  },
  {
   "cell_type": "code",
   "execution_count": null,
   "metadata": {},
   "outputs": [],
   "source": []
  }
 ],
 "metadata": {
  "kernelspec": {
   "display_name": "Python 3",
   "language": "python",
   "name": "python3"
  },
  "language_info": {
   "codemirror_mode": {
    "name": "ipython",
    "version": 3
   },
   "file_extension": ".py",
   "mimetype": "text/x-python",
   "name": "python",
   "nbconvert_exporter": "python",
   "pygments_lexer": "ipython3",
   "version": "3.5.5"
  }
 },
 "nbformat": 4,
 "nbformat_minor": 2
}
