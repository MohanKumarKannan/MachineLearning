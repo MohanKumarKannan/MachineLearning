{
 "cells": [
  {
   "cell_type": "code",
   "execution_count": 1,
   "metadata": {},
   "outputs": [],
   "source": [
    "import numpy as np\n",
    "import pandas as pd\n",
    "\n",
    "data = pd.read_csv('Input/tv18_5years.csv', header=0,index_col=False);\n",
    "\n",
    "\n",
    "data = data[['Date','Open','High','Low','Close','Volume']]\n",
    "data.fillna(value=-99999, inplace=True)"
   ]
  },
  {
   "cell_type": "code",
   "execution_count": 2,
   "metadata": {},
   "outputs": [],
   "source": [
    "df1 = data[['Date','Close']].loc[1:]"
   ]
  },
  {
   "cell_type": "code",
   "execution_count": 3,
   "metadata": {},
   "outputs": [],
   "source": [
    "\n",
    "l=[]\n",
    "for i in range(1,len(data)):\n",
    "    if (data['Close'].loc[i-1] != -99999.000000): \n",
    "        k= data['Date'].loc[i],data['Open'].loc[i-1],data['High'].loc[i-1],data['Low'].loc[i-1],data['Volume'].loc[i-1]\n",
    "        l.append(k)\n"
   ]
  },
  {
   "cell_type": "code",
   "execution_count": 4,
   "metadata": {},
   "outputs": [],
   "source": [
    "labels= ['Date','Open','High','Low','Volume']\n",
    "df2 = pd.DataFrame.from_records(l, columns=labels)"
   ]
  },
  {
   "cell_type": "code",
   "execution_count": 5,
   "metadata": {},
   "outputs": [],
   "source": [
    "df3=df1.join(df2.set_index('Date'), on='Date')"
   ]
  },
  {
   "cell_type": "code",
   "execution_count": 37,
   "metadata": {},
   "outputs": [
    {
     "data": {
      "text/html": [
       "<div>\n",
       "<style scoped>\n",
       "    .dataframe tbody tr th:only-of-type {\n",
       "        vertical-align: middle;\n",
       "    }\n",
       "\n",
       "    .dataframe tbody tr th {\n",
       "        vertical-align: top;\n",
       "    }\n",
       "\n",
       "    .dataframe thead th {\n",
       "        text-align: right;\n",
       "    }\n",
       "</style>\n",
       "<table border=\"1\" class=\"dataframe\">\n",
       "  <thead>\n",
       "    <tr style=\"text-align: right;\">\n",
       "      <th></th>\n",
       "      <th>Date</th>\n",
       "      <th>Close</th>\n",
       "      <th>Open</th>\n",
       "      <th>High</th>\n",
       "      <th>Low</th>\n",
       "      <th>Volume</th>\n",
       "    </tr>\n",
       "  </thead>\n",
       "  <tbody>\n",
       "    <tr>\n",
       "      <th>1</th>\n",
       "      <td>2013-08-07</td>\n",
       "      <td>18.799999</td>\n",
       "      <td>18.100000</td>\n",
       "      <td>19.400000</td>\n",
       "      <td>17.950001</td>\n",
       "      <td>6224088.0</td>\n",
       "    </tr>\n",
       "    <tr>\n",
       "      <th>2</th>\n",
       "      <td>2013-08-08</td>\n",
       "      <td>19.450001</td>\n",
       "      <td>19.000000</td>\n",
       "      <td>19.700001</td>\n",
       "      <td>18.500000</td>\n",
       "      <td>2327028.0</td>\n",
       "    </tr>\n",
       "    <tr>\n",
       "      <th>3</th>\n",
       "      <td>2013-08-12</td>\n",
       "      <td>19.500000</td>\n",
       "      <td>19.200001</td>\n",
       "      <td>19.600000</td>\n",
       "      <td>18.850000</td>\n",
       "      <td>1200111.0</td>\n",
       "    </tr>\n",
       "    <tr>\n",
       "      <th>4</th>\n",
       "      <td>2013-08-13</td>\n",
       "      <td>19.700001</td>\n",
       "      <td>19.549999</td>\n",
       "      <td>19.950001</td>\n",
       "      <td>19.350000</td>\n",
       "      <td>637968.0</td>\n",
       "    </tr>\n",
       "    <tr>\n",
       "      <th>5</th>\n",
       "      <td>2013-08-14</td>\n",
       "      <td>19.650000</td>\n",
       "      <td>19.700001</td>\n",
       "      <td>20.400000</td>\n",
       "      <td>19.400000</td>\n",
       "      <td>9353787.0</td>\n",
       "    </tr>\n",
       "    <tr>\n",
       "      <th>6</th>\n",
       "      <td>2013-08-16</td>\n",
       "      <td>18.650000</td>\n",
       "      <td>19.799999</td>\n",
       "      <td>20.250000</td>\n",
       "      <td>19.500000</td>\n",
       "      <td>2314664.0</td>\n",
       "    </tr>\n",
       "    <tr>\n",
       "      <th>7</th>\n",
       "      <td>2013-08-19</td>\n",
       "      <td>18.000000</td>\n",
       "      <td>19.049999</td>\n",
       "      <td>19.450001</td>\n",
       "      <td>18.350000</td>\n",
       "      <td>946548.0</td>\n",
       "    </tr>\n",
       "    <tr>\n",
       "      <th>8</th>\n",
       "      <td>2013-08-20</td>\n",
       "      <td>17.500000</td>\n",
       "      <td>18.850000</td>\n",
       "      <td>18.850000</td>\n",
       "      <td>17.750000</td>\n",
       "      <td>5487664.0</td>\n",
       "    </tr>\n",
       "    <tr>\n",
       "      <th>9</th>\n",
       "      <td>2013-08-21</td>\n",
       "      <td>17.049999</td>\n",
       "      <td>17.900000</td>\n",
       "      <td>18.450001</td>\n",
       "      <td>17.299999</td>\n",
       "      <td>2601216.0</td>\n",
       "    </tr>\n",
       "    <tr>\n",
       "      <th>10</th>\n",
       "      <td>2013-08-22</td>\n",
       "      <td>17.549999</td>\n",
       "      <td>17.750000</td>\n",
       "      <td>18.000000</td>\n",
       "      <td>16.850000</td>\n",
       "      <td>1669285.0</td>\n",
       "    </tr>\n",
       "  </tbody>\n",
       "</table>\n",
       "</div>"
      ],
      "text/plain": [
       "          Date      Close       Open       High        Low     Volume\n",
       "1   2013-08-07  18.799999  18.100000  19.400000  17.950001  6224088.0\n",
       "2   2013-08-08  19.450001  19.000000  19.700001  18.500000  2327028.0\n",
       "3   2013-08-12  19.500000  19.200001  19.600000  18.850000  1200111.0\n",
       "4   2013-08-13  19.700001  19.549999  19.950001  19.350000   637968.0\n",
       "5   2013-08-14  19.650000  19.700001  20.400000  19.400000  9353787.0\n",
       "6   2013-08-16  18.650000  19.799999  20.250000  19.500000  2314664.0\n",
       "7   2013-08-19  18.000000  19.049999  19.450001  18.350000   946548.0\n",
       "8   2013-08-20  17.500000  18.850000  18.850000  17.750000  5487664.0\n",
       "9   2013-08-21  17.049999  17.900000  18.450001  17.299999  2601216.0\n",
       "10  2013-08-22  17.549999  17.750000  18.000000  16.850000  1669285.0"
      ]
     },
     "execution_count": 37,
     "metadata": {},
     "output_type": "execute_result"
    }
   ],
   "source": [
    "df3.head(10)"
   ]
  },
  {
   "cell_type": "code",
   "execution_count": 64,
   "metadata": {},
   "outputs": [
    {
     "name": "stdout",
     "output_type": "stream",
     "text": [
      "(247,) (985,)\n"
     ]
    }
   ],
   "source": [
    "# Training and test data\n",
    "df3=df1.join(df2.set_index('Date'), on='Date')\n",
    "df4 = np.array(df3.drop(['Date'], 1))\n",
    "\n",
    "n=len(df4)\n",
    "train_start = 0\n",
    "train_end = int(np.floor(0.8*n))\n",
    "test_start = train_end\n",
    "test_end = n\n",
    "data_train = df4[np.arange(train_start, train_end), :]\n",
    "data_test = df4[np.arange(test_start, test_end), :]\n",
    "\n",
    "y_train = data_train[:,0]\n",
    "y_test = data_test[:,0]\n",
    "\n",
    "X_train =data_train[:,1:]\n",
    "X_test =data_test[:,1:]\n",
    "\n",
    "print(np.shape(y_test),np.shape(y_train))\n",
    "\n"
   ]
  },
  {
   "cell_type": "code",
   "execution_count": null,
   "metadata": {},
   "outputs": [],
   "source": [
    "from sklearn.preprocessing import MinMaxScaler\n",
    "scaler = MinMaxScaler()\n",
    "scaler.fit(X_train)\n",
    "X_train = scaler.transform(X_train)\n",
    "X_test = scaler.transform(X_test)"
   ]
  },
  {
   "cell_type": "code",
   "execution_count": null,
   "metadata": {},
   "outputs": [],
   "source": []
  }
 ],
 "metadata": {
  "kernelspec": {
   "display_name": "Python 3",
   "language": "python",
   "name": "python3"
  },
  "language_info": {
   "codemirror_mode": {
    "name": "ipython",
    "version": 3
   },
   "file_extension": ".py",
   "mimetype": "text/x-python",
   "name": "python",
   "nbconvert_exporter": "python",
   "pygments_lexer": "ipython3",
   "version": "3.5.5"
  }
 },
 "nbformat": 4,
 "nbformat_minor": 2
}
