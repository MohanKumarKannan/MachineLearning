{
 "cells": [
  {
   "cell_type": "code",
   "execution_count": 4,
   "metadata": {},
   "outputs": [
    {
     "name": "stdout",
     "output_type": "stream",
     "text": [
      "        Close     HL_PCT  PCT_change    Volume      label  Forecast\n",
      "0   57.900002   2.590673    0.695656   7033084  56.849998       NaN\n",
      "1   56.849998   3.342123   -1.643600   4886648  57.700001       NaN\n",
      "2   57.700001   3.552858    1.495168   3485691  56.849998       NaN\n",
      "3   56.849998   2.286718   -1.044392   2705187  56.200001       NaN\n",
      "4   56.200001   4.092534   -0.969161   4263309  57.049999       NaN\n",
      "5   57.049999   2.541623    1.332149   2676257  56.049999       NaN\n",
      "6   56.049999   3.033008   -1.752848   2185801  57.349998       NaN\n",
      "7   57.349998   2.964248    2.046258   1810131  56.349998       NaN\n",
      "8   56.349998   3.904172   -1.140354   3102093  56.799999       NaN\n",
      "9   56.799999   3.521127    0.888099   3222000  55.150002       NaN\n",
      "10  55.150002   4.079782   -2.475680   3750598  51.250000       NaN\n",
      "11  51.250000  11.414640   -7.071626  16427119  52.750000       NaN\n",
      "12  52.750000   2.843602   -0.094695   3496333  48.099998       NaN\n",
      "13  48.099998  12.162159   -9.840675  10222169  48.849998       NaN\n",
      "14  48.849998   6.141249    1.770829   6458721  47.400002       NaN\n",
      "15  47.400002   4.535869   -2.669402   4379269  47.549999       NaN\n",
      "16  47.549999   4.521550    0.105261   4559826  47.799999       NaN\n",
      "17  47.799999   4.602513    0.631577   3896433  48.349998       NaN\n",
      "18  48.349998   2.275084    0.519751   3024333  49.799999       NaN\n",
      "19  49.799999   4.518072    2.258723   4741441  49.049999       NaN\n",
      "20  49.049999   3.058104   -2.388062   2857688  47.599998       NaN\n",
      "21  47.599998   5.672271   -4.321612   3676979  46.750000       NaN\n",
      "[46.80353599]\n"
     ]
    },
    {
     "data": {
      "image/png": "[encoded data removed]",
      "text/plain": [
       "<Figure size 432x288 with 1 Axes>"
      ]
     },
     "metadata": {},
     "output_type": "display_data"
    }
   ],
   "source": [
    "import math\n",
    "#import Quandl, math\n",
    "import numpy as np\n",
    "import pandas as pd\n",
    "from sklearn import preprocessing, cross_validation, svm\n",
    "from sklearn.linear_model import LinearRegression\n",
    "import matplotlib.pyplot as plt\n",
    "from matplotlib import style\n",
    "import datetime\n",
    "\n",
    "style.use('ggplot')\n",
    "df = pd.read_csv('input/tv18/TV18BRDCST.csv', header=0,index_col=False);\n",
    "df = df[['Date',  'Open',  'High',  'Low', 'Close','Volume']]\n",
    "\n",
    "df['HL_PCT'] = (df['High'] - df['Low']) / df['Close'] * 100.0\n",
    "df['PCT_change'] = (df['Close'] - df['Open']) / df['Open'] * 100.0\n",
    "\n",
    "df = df[['Close', 'HL_PCT', 'PCT_change', 'Volume']]\n",
    "forecast_col = 'Close'\n",
    "df.fillna(value=-99999, inplace=True)\n",
    "forecast_out = int(math.ceil(0.01 * len(df)))\n",
    "df['label'] = df[forecast_col].shift(-forecast_out)\n",
    "\n",
    "X = np.array(df.drop(['label'], 1))\n",
    "X = preprocessing.scale(X)\n",
    "X_lately = X[-forecast_out:]\n",
    "X = X[:-forecast_out]\n",
    "\n",
    "df.dropna(inplace=True)\n",
    "\n",
    "y = np.array(df['label'])\n",
    "\n",
    "X_train, X_test, y_train, y_test = cross_validation.train_test_split(X, y, test_size=0.2)\n",
    "clf = LinearRegression(n_jobs=-1)\n",
    "clf.fit(X_train, y_train)\n",
    "confidence = clf.score(X_test, y_test)\n",
    "\n",
    "forecast_set = clf.predict(X_lately)\n",
    "df['Forecast'] = np.nan\n",
    "\n",
    "last_date = df.iloc[-1].name\n",
    "print(df)\n",
    "#last_unix = last_date.timestamp()\n",
    "one_day = 86400\n",
    "#next_unix = last_unix + one_day\n",
    "next_unix = datetime.datetime.now().day + one_day\n",
    "\n",
    "\n",
    "for i in forecast_set:\n",
    "    next_date = datetime.datetime.fromtimestamp(next_unix)\n",
    "    next_unix += 86400\n",
    "    df.loc[next_date] = [np.nan for _ in range(len(df.columns)-1)]+[i]\n",
    "\n",
    "df['Close'].plot()\n",
    "df['Forecast'].plot()\n",
    "plt.legend(loc=4)\n",
    "plt.xlabel('Date')\n",
    "plt.ylabel('Price')\n",
    "plt.show()"
   ]
  },
  {
   "cell_type": "code",
   "execution_count": null,
   "metadata": {},
   "outputs": [],
   "source": []
  }
 ],
 "metadata": {
  "kernelspec": {
   "display_name": "Python 3",
   "language": "python",
   "name": "python3"
  },
  "language_info": {
   "codemirror_mode": {
    "name": "ipython",
    "version": 3
   },
   "file_extension": ".py",
   "mimetype": "text/x-python",
   "name": "python",
   "nbconvert_exporter": "python",
   "pygments_lexer": "ipython3",
   "version": "3.5.5"
  }
 },
 "nbformat": 4,
 "nbformat_minor": 2
}
