{
 "cells": [
  {
   "cell_type": "code",
   "execution_count": 19,
   "metadata": {},
   "outputs": [
    {
     "name": "stdout",
     "output_type": "stream",
     "text": [
      "running for :  (34660, 5)\n"
     ]
    }
   ],
   "source": [
    "import numpy as np    \n",
    "import pandas as pd  \n",
    "from apyori import apriori \n",
    "ratings = pd.read_csv('C:\\\\Users\\\\User\\\\Desktop\\\\Workspace\\\\ML\\\\recommendation_engine\\\\input\\\\ml_small\\\\ratings.csv') \n",
    "movies = pd.read_csv('C:\\\\Users\\\\User\\\\Desktop\\\\Workspace\\\\ML\\\\recommendation_engine\\\\input\\\\ml_small\\\\movies.csv') \n",
    "\n",
    "movie_ratings = pd.merge(ratings[['userId','movieId','rating']],movies[['movieId','title']],on='movieId')\n",
    "\n",
    "\n",
    "ratings_count = movie_ratings.groupby(by=\"title\")['rating'].count().reset_index().rename(columns={'rating':'totalRatings'})[['title','totalRatings']]\n",
    "all_ratings = pd.merge(movie_ratings,ratings_count,on='title',how='left')\n",
    "\n",
    "votes_count_threshold = 60\n",
    "ratings_top = all_ratings.query('totalRatings > @votes_count_threshold')\n",
    "print('running for : ', ratings_top.shape)\n",
    "#ratings_top.shape\n",
    "\n",
    "if not ratings_top[ratings_top.duplicated(['userId','title'])].empty:\n",
    "    ratings_top = ratings_top.drop_duplicates(['userId','title'])\n",
    "    \n",
    "#ratings_top.shape  - 66658,5\n",
    "record_set = ratings_top.pivot(index='title',columns='userId',values='rating').fillna(0)\n",
    "record_set =record_set.fillna(0)\n",
    "\n",
    "def encode_units(x):\n",
    "    if x<=0:\n",
    "        return 0\n",
    "    if x>=1:\n",
    "        return 1\n",
    "\n",
    "records_T = record_set.T.applymap(encode_units)   \n",
    "records_T = records_T.fillna(0)\n",
    "#records.head()\n",
    "\n",
    "row,col = records_T.shape"
   ]
  },
  {
   "cell_type": "code",
   "execution_count": 20,
   "metadata": {},
   "outputs": [
    {
     "name": "stdout",
     "output_type": "stream",
     "text": [
      "56\n",
      "RelationRecord(items=frozenset({'Beauty and the Beast (1991)', 'Aladdin (1992)'}), support=0.20398009950248755, ordered_statistics=[OrderedStatistic(items_base=frozenset({'Beauty and the Beast (1991)'}), items_add=frozenset({'Aladdin (1992)'}), confidence=0.8424657534246575, lift=2.7912464248080684)])\n",
      "RelationRecord(items=frozenset({'Godfather: Part II, The (1974)', 'Godfather, The (1972)'}), support=0.20729684908789386, ordered_statistics=[OrderedStatistic(items_base=frozenset({'Godfather: Part II, The (1974)'}), items_add=frozenset({'Godfather, The (1972)'}), confidence=0.9689922480620156, lift=3.043241279069768)])\n",
      "RelationRecord(items=frozenset({'Independence Day (a.k.a. ID4) (1996)', 'Mission: Impossible (1996)'}), support=0.21393034825870647, ordered_statistics=[OrderedStatistic(items_base=frozenset({'Mission: Impossible (1996)'}), items_add=frozenset({'Independence Day (a.k.a. ID4) (1996)'}), confidence=0.8012422360248447, lift=2.415745341614907)])\n",
      "RelationRecord(items=frozenset({'Indiana Jones and the Last Crusade (1989)', 'Raiders of the Lost Ark (Indiana Jones and the Raiders of the Lost Ark) (1981)'}), support=0.2023217247097844, ordered_statistics=[OrderedStatistic(items_base=frozenset({'Indiana Jones and the Last Crusade (1989)'}), items_add=frozenset({'Raiders of the Lost Ark (Indiana Jones and the Raiders of the Lost Ark) (1981)'}), confidence=0.8776978417266187, lift=2.659556776689201)])\n",
      "RelationRecord(items=frozenset({'Jurassic Park (1993)', 'Mask, The (1994)'}), support=0.20729684908789386, ordered_statistics=[OrderedStatistic(items_base=frozenset({'Mask, The (1994)'}), items_add=frozenset({'Jurassic Park (1993)'}), confidence=0.8012820512820513, lift=2.038704965920156)])\n",
      "RelationRecord(items=frozenset({'Jurassic Park (1993)', 'Speed (1994)'}), support=0.22553897180762852, ordered_statistics=[OrderedStatistic(items_base=frozenset({'Speed (1994)'}), items_add=frozenset({'Jurassic Park (1993)'}), confidence=0.8, lift=2.0354430379746837)])\n",
      "RelationRecord(items=frozenset({'Lord of the Rings: The Return of the King, The (2003)', 'Lord of the Rings: The Fellowship of the Ring, The (2001)'}), support=0.2736318407960199, ordered_statistics=[OrderedStatistic(items_base=frozenset({'Lord of the Rings: The Fellowship of the Ring, The (2001)'}), items_add=frozenset({'Lord of the Rings: The Return of the King, The (2003)'}), confidence=0.8418367346938774, lift=2.743932708218422), OrderedStatistic(items_base=frozenset({'Lord of the Rings: The Return of the King, The (2003)'}), items_add=frozenset({'Lord of the Rings: The Fellowship of the Ring, The (2001)'}), confidence=0.8918918918918919, lift=2.743932708218422)])\n",
      "RelationRecord(items=frozenset({'Lord of the Rings: The Two Towers, The (2002)', 'Lord of the Rings: The Fellowship of the Ring, The (2001)'}), support=0.2736318407960199, ordered_statistics=[OrderedStatistic(items_base=frozenset({'Lord of the Rings: The Fellowship of the Ring, The (2001)'}), items_add=frozenset({'Lord of the Rings: The Two Towers, The (2002)'}), confidence=0.8418367346938774, lift=2.7145858343337332), OrderedStatistic(items_base=frozenset({'Lord of the Rings: The Two Towers, The (2002)'}), items_add=frozenset({'Lord of the Rings: The Fellowship of the Ring, The (2001)'}), confidence=0.8823529411764706, lift=2.7145858343337332)])\n",
      "RelationRecord(items=frozenset({'Lord of the Rings: The Two Towers, The (2002)', 'Lord of the Rings: The Return of the King, The (2003)'}), support=0.2669983416252073, ordered_statistics=[OrderedStatistic(items_base=frozenset({'Lord of the Rings: The Return of the King, The (2003)'}), items_add=frozenset({'Lord of the Rings: The Two Towers, The (2002)'}), confidence=0.8702702702702703, lift=2.8062725827431714), OrderedStatistic(items_base=frozenset({'Lord of the Rings: The Two Towers, The (2002)'}), items_add=frozenset({'Lord of the Rings: The Return of the King, The (2003)'}), confidence=0.8609625668449199, lift=2.8062725827431714)])\n",
      "RelationRecord(items=frozenset({'Star Wars: Episode V - The Empire Strikes Back (1980)', 'Star Wars: Episode IV - A New Hope (1977)'}), support=0.3150912106135987, ordered_statistics=[OrderedStatistic(items_base=frozenset({'Star Wars: Episode V - The Empire Strikes Back (1980)'}), items_add=frozenset({'Star Wars: Episode IV - A New Hope (1977)'}), confidence=0.9047619047619048, lift=2.1822857142857144)])\n",
      "RelationRecord(items=frozenset({'Star Wars: Episode VI - Return of the Jedi (1983)', 'Star Wars: Episode IV - A New Hope (1977)'}), support=0.2902155887230514, ordered_statistics=[OrderedStatistic(items_base=frozenset({'Star Wars: Episode VI - Return of the Jedi (1983)'}), items_add=frozenset({'Star Wars: Episode IV - A New Hope (1977)'}), confidence=0.8928571428571428, lift=2.1535714285714285)])\n",
      "RelationRecord(items=frozenset({'Star Wars: Episode V - The Empire Strikes Back (1980)', 'Star Wars: Episode VI - Return of the Jedi (1983)'}), support=0.26865671641791045, ordered_statistics=[OrderedStatistic(items_base=frozenset({'Star Wars: Episode VI - Return of the Jedi (1983)'}), items_add=frozenset({'Star Wars: Episode V - The Empire Strikes Back (1980)'}), confidence=0.8265306122448979, lift=2.3733236151603494)])\n",
      "RelationRecord(items=frozenset({'Jurassic Park (1993)', 'Forrest Gump (1994)', 'Batman (1989)'}), support=0.20563847429519072, ordered_statistics=[OrderedStatistic(items_base=frozenset({'Forrest Gump (1994)', 'Batman (1989)'}), items_add=frozenset({'Jurassic Park (1993)'}), confidence=0.8493150684931506, lift=2.1609155540142186)])\n",
      "RelationRecord(items=frozenset({'Braveheart (1995)', 'Jurassic Park (1993)', 'Terminator 2: Judgment Day (1991)'}), support=0.208955223880597, ordered_statistics=[OrderedStatistic(items_base=frozenset({'Braveheart (1995)', 'Terminator 2: Judgment Day (1991)'}), items_add=frozenset({'Jurassic Park (1993)'}), confidence=0.8235294117647058, lift=2.0953090096798213)])\n",
      "RelationRecord(items=frozenset({'Fight Club (1999)', 'Forrest Gump (1994)', 'Matrix, The (1999)'}), support=0.23880597014925373, ordered_statistics=[OrderedStatistic(items_base=frozenset({'Fight Club (1999)', 'Forrest Gump (1994)'}), items_add=frozenset({'Matrix, The (1999)'}), confidence=0.9171974522292994, lift=2.025897669209771)])\n",
      "RelationRecord(items=frozenset({'Fight Club (1999)', 'Matrix, The (1999)', 'Star Wars: Episode IV - A New Hope (1977)'}), support=0.20398009950248755, ordered_statistics=[OrderedStatistic(items_base=frozenset({'Fight Club (1999)', 'Star Wars: Episode IV - A New Hope (1977)'}), items_add=frozenset({'Matrix, The (1999)'}), confidence=0.924812030075188, lift=2.0427166818144262)])\n",
      "RelationRecord(items=frozenset({'Jurassic Park (1993)', 'Fugitive, The (1993)', 'Forrest Gump (1994)'}), support=0.20563847429519072, ordered_statistics=[OrderedStatistic(items_base=frozenset({'Fugitive, The (1993)', 'Forrest Gump (1994)'}), items_add=frozenset({'Jurassic Park (1993)'}), confidence=0.8378378378378379, lift=2.1317139924734865)])\n",
      "RelationRecord(items=frozenset({'Jurassic Park (1993)', 'Independence Day (a.k.a. ID4) (1996)', 'Forrest Gump (1994)'}), support=0.20398009950248755, ordered_statistics=[OrderedStatistic(items_base=frozenset({'Independence Day (a.k.a. ID4) (1996)', 'Forrest Gump (1994)'}), items_add=frozenset({'Jurassic Park (1993)'}), confidence=0.8424657534246575, lift=2.1434888156753944)])\n",
      "RelationRecord(items=frozenset({'Jurassic Park (1993)', 'Speed (1994)', 'Forrest Gump (1994)'}), support=0.20066334991708126, ordered_statistics=[OrderedStatistic(items_base=frozenset({'Speed (1994)', 'Forrest Gump (1994)'}), items_add=frozenset({'Jurassic Park (1993)'}), confidence=0.8402777777777778, lift=2.13792194092827)])\n",
      "RelationRecord(items=frozenset({'Jurassic Park (1993)', 'Terminator 2: Judgment Day (1991)', 'Forrest Gump (1994)'}), support=0.23051409618573798, ordered_statistics=[OrderedStatistic(items_base=frozenset({'Terminator 2: Judgment Day (1991)', 'Forrest Gump (1994)'}), items_add=frozenset({'Jurassic Park (1993)'}), confidence=0.8224852071005917, lift=2.0926522357875816)])\n",
      "RelationRecord(items=frozenset({'Lord of the Rings: The Return of the King, The (2003)', 'Lord of the Rings: The Fellowship of the Ring, The (2001)', 'Forrest Gump (1994)'}), support=0.20729684908789386, ordered_statistics=[OrderedStatistic(items_base=frozenset({'Lord of the Rings: The Fellowship of the Ring, The (2001)', 'Forrest Gump (1994)'}), items_add=frozenset({'Lord of the Rings: The Return of the King, The (2003)'}), confidence=0.9124087591240876, lift=2.973959360820675), OrderedStatistic(items_base=frozenset({'Lord of the Rings: The Return of the King, The (2003)', 'Forrest Gump (1994)'}), items_add=frozenset({'Lord of the Rings: The Fellowship of the Ring, The (2001)'}), confidence=0.8928571428571429, lift=2.746902332361516)])\n",
      "RelationRecord(items=frozenset({'Lord of the Rings: The Two Towers, The (2002)', 'Lord of the Rings: The Fellowship of the Ring, The (2001)', 'Forrest Gump (1994)'}), support=0.20563847429519072, ordered_statistics=[OrderedStatistic(items_base=frozenset({'Lord of the Rings: The Fellowship of the Ring, The (2001)', 'Forrest Gump (1994)'}), items_add=frozenset({'Lord of the Rings: The Two Towers, The (2002)'}), confidence=0.905109489051095, lift=2.9186150903626222), OrderedStatistic(items_base=frozenset({'Lord of the Rings: The Two Towers, The (2002)', 'Forrest Gump (1994)'}), items_add=frozenset({'Lord of the Rings: The Fellowship of the Ring, The (2001)'}), confidence=0.9323308270676692, lift=2.8683443302132883)])\n",
      "RelationRecord(items=frozenset({'Lord of the Rings: The Two Towers, The (2002)', 'Lord of the Rings: The Return of the King, The (2003)', 'Forrest Gump (1994)'}), support=0.20563847429519072, ordered_statistics=[OrderedStatistic(items_base=frozenset({'Lord of the Rings: The Return of the King, The (2003)', 'Forrest Gump (1994)'}), items_add=frozenset({'Lord of the Rings: The Two Towers, The (2002)'}), confidence=0.8857142857142858, lift=2.85607333842628), OrderedStatistic(items_base=frozenset({'Lord of the Rings: The Two Towers, The (2002)', 'Forrest Gump (1994)'}), items_add=frozenset({'Lord of the Rings: The Return of the King, The (2003)'}), confidence=0.9323308270676692, lift=3.038894533631376)])\n",
      "RelationRecord(items=frozenset({'Star Wars: Episode V - The Empire Strikes Back (1980)', 'Forrest Gump (1994)', 'Star Wars: Episode IV - A New Hope (1977)'}), support=0.22719734660033167, ordered_statistics=[OrderedStatistic(items_base=frozenset({'Forrest Gump (1994)', 'Star Wars: Episode IV - A New Hope (1977)'}), items_add=frozenset({'Star Wars: Episode V - The Empire Strikes Back (1980)'}), confidence=0.8404907975460123, lift=2.4134092900964066), OrderedStatistic(items_base=frozenset({'Star Wars: Episode V - The Empire Strikes Back (1980)', 'Forrest Gump (1994)'}), items_add=frozenset({'Star Wars: Episode IV - A New Hope (1977)'}), confidence=0.9319727891156462, lift=2.2479183673469385)])\n",
      "RelationRecord(items=frozenset({'Star Wars: Episode VI - Return of the Jedi (1983)', 'Forrest Gump (1994)', 'Star Wars: Episode IV - A New Hope (1977)'}), support=0.21890547263681592, ordered_statistics=[OrderedStatistic(items_base=frozenset({'Forrest Gump (1994)', 'Star Wars: Episode IV - A New Hope (1977)'}), items_add=frozenset({'Star Wars: Episode VI - Return of the Jedi (1983)'}), confidence=0.8098159509202454, lift=2.4914235632903465), OrderedStatistic(items_base=frozenset({'Star Wars: Episode VI - Return of the Jedi (1983)', 'Forrest Gump (1994)'}), items_add=frozenset({'Star Wars: Episode IV - A New Hope (1977)'}), confidence=0.9230769230769231, lift=2.2264615384615385)])\n",
      "RelationRecord(items=frozenset({'Star Wars: Episode V - The Empire Strikes Back (1980)', 'Star Wars: Episode VI - Return of the Jedi (1983)', 'Forrest Gump (1994)'}), support=0.208955223880597, ordered_statistics=[OrderedStatistic(items_base=frozenset({'Star Wars: Episode V - The Empire Strikes Back (1980)', 'Forrest Gump (1994)'}), items_add=frozenset({'Star Wars: Episode VI - Return of the Jedi (1983)'}), confidence=0.8571428571428571, lift=2.637026239067055), OrderedStatistic(items_base=frozenset({'Star Wars: Episode VI - Return of the Jedi (1983)', 'Forrest Gump (1994)'}), items_add=frozenset({'Star Wars: Episode V - The Empire Strikes Back (1980)'}), confidence=0.881118881118881, lift=2.5300699300699296)])\n",
      "RelationRecord(items=frozenset({'Jurassic Park (1993)', 'Pulp Fiction (1994)', 'Terminator 2: Judgment Day (1991)'}), support=0.22056384742951907, ordered_statistics=[OrderedStatistic(items_base=frozenset({'Pulp Fiction (1994)', 'Terminator 2: Judgment Day (1991)'}), items_add=frozenset({'Jurassic Park (1993)'}), confidence=0.8159509202453988, lift=2.076027024928167)])\n",
      "RelationRecord(items=frozenset({'Jurassic Park (1993)', 'Star Wars: Episode V - The Empire Strikes Back (1980)', 'Star Wars: Episode IV - A New Hope (1977)'}), support=0.20066334991708126, ordered_statistics=[OrderedStatistic(items_base=frozenset({'Jurassic Park (1993)', 'Star Wars: Episode IV - A New Hope (1977)'}), items_add=frozenset({'Star Wars: Episode V - The Empire Strikes Back (1980)'}), confidence=0.8705035971223022, lift=2.4995889003083245), OrderedStatistic(items_base=frozenset({'Jurassic Park (1993)', 'Star Wars: Episode V - The Empire Strikes Back (1980)'}), items_add=frozenset({'Star Wars: Episode IV - A New Hope (1977)'}), confidence=0.952755905511811, lift=2.298047244094488)])\n",
      "RelationRecord(items=frozenset({'Jurassic Park (1993)', 'Star Wars: Episode VI - Return of the Jedi (1983)', 'Star Wars: Episode IV - A New Hope (1977)'}), support=0.20066334991708126, ordered_statistics=[OrderedStatistic(items_base=frozenset({'Jurassic Park (1993)', 'Star Wars: Episode IV - A New Hope (1977)'}), items_add=frozenset({'Star Wars: Episode VI - Return of the Jedi (1983)'}), confidence=0.8705035971223022, lift=2.678130964616062), OrderedStatistic(items_base=frozenset({'Jurassic Park (1993)', 'Star Wars: Episode VI - Return of the Jedi (1983)'}), items_add=frozenset({'Star Wars: Episode IV - A New Hope (1977)'}), confidence=0.9453125, lift=2.28009375)])\n",
      "RelationRecord(items=frozenset({'Jurassic Park (1993)', 'Star Wars: Episode VI - Return of the Jedi (1983)', 'Star Wars: Episode V - The Empire Strikes Back (1980)'}), support=0.20066334991708126, ordered_statistics=[OrderedStatistic(items_base=frozenset({'Jurassic Park (1993)', 'Star Wars: Episode V - The Empire Strikes Back (1980)'}), items_add=frozenset({'Star Wars: Episode VI - Return of the Jedi (1983)'}), confidence=0.952755905511811, lift=2.931182709304194), OrderedStatistic(items_base=frozenset({'Jurassic Park (1993)', 'Star Wars: Episode VI - Return of the Jedi (1983)'}), items_add=frozenset({'Star Wars: Episode V - The Empire Strikes Back (1980)'}), confidence=0.9453125, lift=2.7143973214285713)])\n",
      "RelationRecord(items=frozenset({'Lord of the Rings: The Two Towers, The (2002)', 'Lord of the Rings: The Return of the King, The (2003)', 'Lord of the Rings: The Fellowship of the Ring, The (2001)'}), support=0.25538971807628524, ordered_statistics=[OrderedStatistic(items_base=frozenset({'Lord of the Rings: The Return of the King, The (2003)', 'Lord of the Rings: The Fellowship of the Ring, The (2001)'}), items_add=frozenset({'Lord of the Rings: The Two Towers, The (2002)'}), confidence=0.9333333333333335, lift=3.0096256684491984), OrderedStatistic(items_base=frozenset({'Lord of the Rings: The Two Towers, The (2002)', 'Lord of the Rings: The Fellowship of the Ring, The (2001)'}), items_add=frozenset({'Lord of the Rings: The Return of the King, The (2003)'}), confidence=0.9333333333333335, lift=3.0421621621621626), OrderedStatistic(items_base=frozenset({'Lord of the Rings: The Two Towers, The (2002)', 'Lord of the Rings: The Return of the King, The (2003)'}), items_add=frozenset({'Lord of the Rings: The Fellowship of the Ring, The (2001)'}), confidence=0.9565217391304348, lift=2.942768411712511)])\n",
      "RelationRecord(items=frozenset({'Lord of the Rings: The Return of the King, The (2003)', 'Lord of the Rings: The Fellowship of the Ring, The (2001)', 'Matrix, The (1999)'}), support=0.22388059701492538, ordered_statistics=[OrderedStatistic(items_base=frozenset({'Lord of the Rings: The Fellowship of the Ring, The (2001)', 'Matrix, The (1999)'}), items_add=frozenset({'Lord of the Rings: The Return of the King, The (2003)'}), confidence=0.8766233766233766, lift=2.8573183573183574), OrderedStatistic(items_base=frozenset({'Lord of the Rings: The Return of the King, The (2003)', 'Matrix, The (1999)'}), items_add=frozenset({'Lord of the Rings: The Fellowship of the Ring, The (2001)'}), confidence=0.9246575342465754, lift=2.844737209952474)])\n",
      "RelationRecord(items=frozenset({'Shawshank Redemption, The (1994)', 'Lord of the Rings: The Return of the King, The (2003)', 'Lord of the Rings: The Fellowship of the Ring, The (2001)'}), support=0.20066334991708126, ordered_statistics=[OrderedStatistic(items_base=frozenset({'Shawshank Redemption, The (1994)', 'Lord of the Rings: The Fellowship of the Ring, The (2001)'}), items_add=frozenset({'Lord of the Rings: The Return of the King, The (2003)'}), confidence=0.8962962962962963, lift=2.9214414414414414), OrderedStatistic(items_base=frozenset({'Shawshank Redemption, The (1994)', 'Lord of the Rings: The Return of the King, The (2003)'}), items_add=frozenset({'Lord of the Rings: The Fellowship of the Ring, The (2001)'}), confidence=0.8897058823529412, lift=2.7372073829531813)])\n",
      "RelationRecord(items=frozenset({'Lord of the Rings: The Two Towers, The (2002)', 'Lord of the Rings: The Fellowship of the Ring, The (2001)', 'Matrix, The (1999)'}), support=0.21890547263681592, ordered_statistics=[OrderedStatistic(items_base=frozenset({'Lord of the Rings: The Fellowship of the Ring, The (2001)', 'Matrix, The (1999)'}), items_add=frozenset({'Lord of the Rings: The Two Towers, The (2002)'}), confidence=0.8571428571428571, lift=2.7639419404125287), OrderedStatistic(items_base=frozenset({'Lord of the Rings: The Two Towers, The (2002)', 'Matrix, The (1999)'}), items_add=frozenset({'Lord of the Rings: The Fellowship of the Ring, The (2001)'}), confidence=0.9041095890410958, lift=2.7815208275090857)])\n",
      "RelationRecord(items=frozenset({'Lord of the Rings: The Two Towers, The (2002)', 'Lord of the Rings: The Return of the King, The (2003)', 'Matrix, The (1999)'}), support=0.21724709784411278, ordered_statistics=[OrderedStatistic(items_base=frozenset({'Lord of the Rings: The Return of the King, The (2003)', 'Matrix, The (1999)'}), items_add=frozenset({'Lord of the Rings: The Two Towers, The (2002)'}), confidence=0.8972602739726028, lift=2.8933045198153984), OrderedStatistic(items_base=frozenset({'Lord of the Rings: The Two Towers, The (2002)', 'Matrix, The (1999)'}), items_add=frozenset({'Lord of the Rings: The Return of the King, The (2003)'}), confidence=0.8972602739726028, lift=2.9245834875971863)])\n",
      "RelationRecord(items=frozenset({'Lord of the Rings: The Two Towers, The (2002)', 'Lord of the Rings: The Return of the King, The (2003)', 'Shawshank Redemption, The (1994)'}), support=0.20066334991708126, ordered_statistics=[OrderedStatistic(items_base=frozenset({'Shawshank Redemption, The (1994)', 'Lord of the Rings: The Return of the King, The (2003)'}), items_add=frozenset({'Lord of the Rings: The Two Towers, The (2002)'}), confidence=0.8897058823529412, lift=2.868944636678201), OrderedStatistic(items_base=frozenset({'Lord of the Rings: The Two Towers, The (2002)', 'Shawshank Redemption, The (1994)'}), items_add=frozenset({'Lord of the Rings: The Return of the King, The (2003)'}), confidence=0.9453125, lift=3.0812077702702703)])\n",
      "RelationRecord(items=frozenset({'Raiders of the Lost Ark (Indiana Jones and the Raiders of the Lost Ark) (1981)', 'Matrix, The (1999)', 'Star Wars: Episode IV - A New Hope (1977)'}), support=0.21890547263681592, ordered_statistics=[OrderedStatistic(items_base=frozenset({'Raiders of the Lost Ark (Indiana Jones and the Raiders of the Lost Ark) (1981)', 'Matrix, The (1999)'}), items_add=frozenset({'Star Wars: Episode IV - A New Hope (1977)'}), confidence=0.8684210526315789, lift=2.0946315789473684)])\n",
      "RelationRecord(items=frozenset({'Star Wars: Episode V - The Empire Strikes Back (1980)', 'Raiders of the Lost Ark (Indiana Jones and the Raiders of the Lost Ark) (1981)', 'Matrix, The (1999)'}), support=0.2023217247097844, ordered_statistics=[OrderedStatistic(items_base=frozenset({'Raiders of the Lost Ark (Indiana Jones and the Raiders of the Lost Ark) (1981)', 'Matrix, The (1999)'}), items_add=frozenset({'Star Wars: Episode V - The Empire Strikes Back (1980)'}), confidence=0.8026315789473684, lift=2.3046992481203006)])\n",
      "RelationRecord(items=frozenset({'Star Wars: Episode V - The Empire Strikes Back (1980)', 'Matrix, The (1999)', 'Star Wars: Episode IV - A New Hope (1977)'}), support=0.2669983416252073, ordered_statistics=[OrderedStatistic(items_base=frozenset({'Matrix, The (1999)', 'Star Wars: Episode IV - A New Hope (1977)'}), items_add=frozenset({'Star Wars: Episode V - The Empire Strikes Back (1980)'}), confidence=0.8895027624309392, lift=2.5541436464088396), OrderedStatistic(items_base=frozenset({'Star Wars: Episode V - The Empire Strikes Back (1980)', 'Matrix, The (1999)'}), items_add=frozenset({'Star Wars: Episode IV - A New Hope (1977)'}), confidence=0.9415204678362574, lift=2.270947368421053)])\n",
      "RelationRecord(items=frozenset({'Star Wars: Episode VI - Return of the Jedi (1983)', 'Matrix, The (1999)', 'Star Wars: Episode IV - A New Hope (1977)'}), support=0.23217247097844113, ordered_statistics=[OrderedStatistic(items_base=frozenset({'Star Wars: Episode VI - Return of the Jedi (1983)', 'Matrix, The (1999)'}), items_add=frozenset({'Star Wars: Episode IV - A New Hope (1977)'}), confidence=0.9150326797385621, lift=2.2070588235294117)])\n",
      "RelationRecord(items=frozenset({'Star Wars: Episode V - The Empire Strikes Back (1980)', 'Star Wars: Episode VI - Return of the Jedi (1983)', 'Matrix, The (1999)'}), support=0.23217247097844113, ordered_statistics=[OrderedStatistic(items_base=frozenset({'Star Wars: Episode V - The Empire Strikes Back (1980)', 'Matrix, The (1999)'}), items_add=frozenset({'Star Wars: Episode VI - Return of the Jedi (1983)'}), confidence=0.8187134502923977, lift=2.518796992481203), OrderedStatistic(items_base=frozenset({'Star Wars: Episode VI - Return of the Jedi (1983)', 'Matrix, The (1999)'}), items_add=frozenset({'Star Wars: Episode V - The Empire Strikes Back (1980)'}), confidence=0.9150326797385621, lift=2.6274509803921564)])\n",
      "RelationRecord(items=frozenset({'Star Wars: Episode V - The Empire Strikes Back (1980)', 'Pulp Fiction (1994)', 'Star Wars: Episode IV - A New Hope (1977)'}), support=0.2155887230514096, ordered_statistics=[OrderedStatistic(items_base=frozenset({'Pulp Fiction (1994)', 'Star Wars: Episode IV - A New Hope (1977)'}), items_add=frozenset({'Star Wars: Episode V - The Empire Strikes Back (1980)'}), confidence=0.8496732026143791, lift=2.4397759103641454), OrderedStatistic(items_base=frozenset({'Star Wars: Episode V - The Empire Strikes Back (1980)', 'Pulp Fiction (1994)'}), items_add=frozenset({'Star Wars: Episode IV - A New Hope (1977)'}), confidence=0.948905109489051, lift=2.288759124087591)])\n",
      "RelationRecord(items=frozenset({'Star Wars: Episode V - The Empire Strikes Back (1980)', 'Raiders of the Lost Ark (Indiana Jones and the Raiders of the Lost Ark) (1981)', 'Star Wars: Episode IV - A New Hope (1977)'}), support=0.23714759535655058, ordered_statistics=[OrderedStatistic(items_base=frozenset({'Raiders of the Lost Ark (Indiana Jones and the Raiders of the Lost Ark) (1981)', 'Star Wars: Episode IV - A New Hope (1977)'}), items_add=frozenset({'Star Wars: Episode V - The Empire Strikes Back (1980)'}), confidence=0.8993710691823898, lift=2.5824797843665763), OrderedStatistic(items_base=frozenset({'Star Wars: Episode V - The Empire Strikes Back (1980)', 'Raiders of the Lost Ark (Indiana Jones and the Raiders of the Lost Ark) (1981)'}), items_add=frozenset({'Star Wars: Episode IV - A New Hope (1977)'}), confidence=0.9727891156462585, lift=2.3463673469387754)])\n",
      "RelationRecord(items=frozenset({'Star Wars: Episode VI - Return of the Jedi (1983)', 'Raiders of the Lost Ark (Indiana Jones and the Raiders of the Lost Ark) (1981)', 'Star Wars: Episode IV - A New Hope (1977)'}), support=0.20729684908789386, ordered_statistics=[OrderedStatistic(items_base=frozenset({'Star Wars: Episode VI - Return of the Jedi (1983)', 'Raiders of the Lost Ark (Indiana Jones and the Raiders of the Lost Ark) (1981)'}), items_add=frozenset({'Star Wars: Episode IV - A New Hope (1977)'}), confidence=0.9842519685039369, lift=2.374015748031496)])\n",
      "RelationRecord(items=frozenset({'Star Wars: Episode V - The Empire Strikes Back (1980)', 'Star Wars: Episode VI - Return of the Jedi (1983)', 'Raiders of the Lost Ark (Indiana Jones and the Raiders of the Lost Ark) (1981)'}), support=0.20563847429519072, ordered_statistics=[OrderedStatistic(items_base=frozenset({'Star Wars: Episode V - The Empire Strikes Back (1980)', 'Raiders of the Lost Ark (Indiana Jones and the Raiders of the Lost Ark) (1981)'}), items_add=frozenset({'Star Wars: Episode VI - Return of the Jedi (1983)'}), confidence=0.8435374149659864, lift=2.5951686797167848), OrderedStatistic(items_base=frozenset({'Star Wars: Episode VI - Return of the Jedi (1983)', 'Raiders of the Lost Ark (Indiana Jones and the Raiders of the Lost Ark) (1981)'}), items_add=frozenset({'Star Wars: Episode V - The Empire Strikes Back (1980)'}), confidence=0.9763779527559054, lift=2.8035995500562425)])\n",
      "RelationRecord(items=frozenset({'Star Wars: Episode V - The Empire Strikes Back (1980)', 'Shawshank Redemption, The (1994)', 'Star Wars: Episode IV - A New Hope (1977)'}), support=0.21061359867330018, ordered_statistics=[OrderedStatistic(items_base=frozenset({'Shawshank Redemption, The (1994)', 'Star Wars: Episode IV - A New Hope (1977)'}), items_add=frozenset({'Star Wars: Episode V - The Empire Strikes Back (1980)'}), confidence=0.8193548387096775, lift=2.3527188940092167), OrderedStatistic(items_base=frozenset({'Star Wars: Episode V - The Empire Strikes Back (1980)', 'Shawshank Redemption, The (1994)'}), items_add=frozenset({'Star Wars: Episode IV - A New Hope (1977)'}), confidence=0.9548872180451129, lift=2.3031879699248123)])\n",
      "RelationRecord(items=frozenset({'Star Wars: Episode V - The Empire Strikes Back (1980)', 'Silence of the Lambs, The (1991)', 'Star Wars: Episode IV - A New Hope (1977)'}), support=0.20729684908789386, ordered_statistics=[OrderedStatistic(items_base=frozenset({'Silence of the Lambs, The (1991)', 'Star Wars: Episode IV - A New Hope (1977)'}), items_add=frozenset({'Star Wars: Episode V - The Empire Strikes Back (1980)'}), confidence=0.8169934640522876, lift=2.3459383753501397), OrderedStatistic(items_base=frozenset({'Star Wars: Episode V - The Empire Strikes Back (1980)', 'Silence of the Lambs, The (1991)'}), items_add=frozenset({'Star Wars: Episode IV - A New Hope (1977)'}), confidence=0.9328358208955224, lift=2.25)])\n",
      "RelationRecord(items=frozenset({'Star Wars: Episode V - The Empire Strikes Back (1980)', 'Star Wars: Episode VI - Return of the Jedi (1983)', 'Star Wars: Episode IV - A New Hope (1977)'}), support=0.25538971807628524, ordered_statistics=[OrderedStatistic(items_base=frozenset({'Star Wars: Episode V - The Empire Strikes Back (1980)', 'Star Wars: Episode IV - A New Hope (1977)'}), items_add=frozenset({'Star Wars: Episode VI - Return of the Jedi (1983)'}), confidence=0.8105263157894737, lift=2.4936090225563907), OrderedStatistic(items_base=frozenset({'Star Wars: Episode VI - Return of the Jedi (1983)', 'Star Wars: Episode IV - A New Hope (1977)'}), items_add=frozenset({'Star Wars: Episode V - The Empire Strikes Back (1980)'}), confidence=0.88, lift=2.5268571428571427), OrderedStatistic(items_base=frozenset({'Star Wars: Episode V - The Empire Strikes Back (1980)', 'Star Wars: Episode VI - Return of the Jedi (1983)'}), items_add=frozenset({'Star Wars: Episode IV - A New Hope (1977)'}), confidence=0.9506172839506173, lift=2.2928888888888888)])\n",
      "RelationRecord(items=frozenset({'Star Wars: Episode V - The Empire Strikes Back (1980)', 'Terminator 2: Judgment Day (1991)', 'Star Wars: Episode IV - A New Hope (1977)'}), support=0.20398009950248755, ordered_statistics=[OrderedStatistic(items_base=frozenset({'Terminator 2: Judgment Day (1991)', 'Star Wars: Episode IV - A New Hope (1977)'}), items_add=frozenset({'Star Wars: Episode V - The Empire Strikes Back (1980)'}), confidence=0.8978102189781022, lift=2.5779979144942646), OrderedStatistic(items_base=frozenset({'Star Wars: Episode V - The Empire Strikes Back (1980)', 'Terminator 2: Judgment Day (1991)'}), items_add=frozenset({'Star Wars: Episode IV - A New Hope (1977)'}), confidence=0.9534883720930232, lift=2.2998139534883717)])\n",
      "RelationRecord(items=frozenset({'Pulp Fiction (1994)', 'Fight Club (1999)', 'Forrest Gump (1994)', 'Matrix, The (1999)'}), support=0.20066334991708126, ordered_statistics=[OrderedStatistic(items_base=frozenset({'Pulp Fiction (1994)', 'Fight Club (1999)', 'Forrest Gump (1994)'}), items_add=frozenset({'Matrix, The (1999)'}), confidence=0.952755905511811, lift=2.104438868218396), OrderedStatistic(items_base=frozenset({'Pulp Fiction (1994)', 'Forrest Gump (1994)', 'Matrix, The (1999)'}), items_add=frozenset({'Fight Club (1999)'}), confidence=0.8402777777777778, lift=2.356686046511628)])\n",
      "RelationRecord(items=frozenset({'Jurassic Park (1993)', 'Pulp Fiction (1994)', 'Terminator 2: Judgment Day (1991)', 'Forrest Gump (1994)'}), support=0.20066334991708126, ordered_statistics=[OrderedStatistic(items_base=frozenset({'Pulp Fiction (1994)', 'Terminator 2: Judgment Day (1991)', 'Forrest Gump (1994)'}), items_add=frozenset({'Jurassic Park (1993)'}), confidence=0.852112676056338, lift=2.1680335175610628)])\n",
      "RelationRecord(items=frozenset({'Star Wars: Episode V - The Empire Strikes Back (1980)', 'Star Wars: Episode VI - Return of the Jedi (1983)', 'Forrest Gump (1994)', 'Star Wars: Episode IV - A New Hope (1977)'}), support=0.2023217247097844, ordered_statistics=[OrderedStatistic(items_base=frozenset({'Star Wars: Episode V - The Empire Strikes Back (1980)', 'Forrest Gump (1994)', 'Star Wars: Episode IV - A New Hope (1977)'}), items_add=frozenset({'Star Wars: Episode VI - Return of the Jedi (1983)'}), confidence=0.8905109489051095, lift=2.7396841948458213), OrderedStatistic(items_base=frozenset({'Star Wars: Episode VI - Return of the Jedi (1983)', 'Forrest Gump (1994)', 'Star Wars: Episode IV - A New Hope (1977)'}), items_add=frozenset({'Star Wars: Episode V - The Empire Strikes Back (1980)'}), confidence=0.9242424242424242, lift=2.6538961038961038), OrderedStatistic(items_base=frozenset({'Star Wars: Episode V - The Empire Strikes Back (1980)', 'Star Wars: Episode VI - Return of the Jedi (1983)', 'Forrest Gump (1994)'}), items_add=frozenset({'Star Wars: Episode IV - A New Hope (1977)'}), confidence=0.9682539682539683, lift=2.3354285714285714)])\n",
      "RelationRecord(items=frozenset({'Lord of the Rings: The Two Towers, The (2002)', 'Lord of the Rings: The Return of the King, The (2003)', 'Lord of the Rings: The Fellowship of the Ring, The (2001)', 'Matrix, The (1999)'}), support=0.21227197346600332, ordered_statistics=[OrderedStatistic(items_base=frozenset({'Lord of the Rings: The Return of the King, The (2003)', 'Lord of the Rings: The Fellowship of the Ring, The (2001)', 'Matrix, The (1999)'}), items_add=frozenset({'Lord of the Rings: The Two Towers, The (2002)'}), confidence=0.9481481481481482, lift=3.057397504456328), OrderedStatistic(items_base=frozenset({'Lord of the Rings: The Two Towers, The (2002)', 'Lord of the Rings: The Fellowship of the Ring, The (2001)', 'Matrix, The (1999)'}), items_add=frozenset({'Lord of the Rings: The Return of the King, The (2003)'}), confidence=0.9696969696969697, lift=3.160687960687961), OrderedStatistic(items_base=frozenset({'Lord of the Rings: The Two Towers, The (2002)', 'Lord of the Rings: The Return of the King, The (2003)', 'Matrix, The (1999)'}), items_add=frozenset({'Lord of the Rings: The Fellowship of the Ring, The (2001)'}), confidence=0.9770992366412213, lift=3.006075712727839)])\n",
      "RelationRecord(items=frozenset({'Star Wars: Episode V - The Empire Strikes Back (1980)', 'Raiders of the Lost Ark (Indiana Jones and the Raiders of the Lost Ark) (1981)', 'Matrix, The (1999)', 'Star Wars: Episode IV - A New Hope (1977)'}), support=0.20066334991708126, ordered_statistics=[OrderedStatistic(items_base=frozenset({'Raiders of the Lost Ark (Indiana Jones and the Raiders of the Lost Ark) (1981)', 'Matrix, The (1999)', 'Star Wars: Episode IV - A New Hope (1977)'}), items_add=frozenset({'Star Wars: Episode V - The Empire Strikes Back (1980)'}), confidence=0.9166666666666666, lift=2.6321428571428567), OrderedStatistic(items_base=frozenset({'Star Wars: Episode V - The Empire Strikes Back (1980)', 'Raiders of the Lost Ark (Indiana Jones and the Raiders of the Lost Ark) (1981)', 'Matrix, The (1999)'}), items_add=frozenset({'Star Wars: Episode IV - A New Hope (1977)'}), confidence=0.9918032786885246, lift=2.392229508196721)])\n",
      "RelationRecord(items=frozenset({'Star Wars: Episode V - The Empire Strikes Back (1980)', 'Star Wars: Episode VI - Return of the Jedi (1983)', 'Matrix, The (1999)', 'Star Wars: Episode IV - A New Hope (1977)'}), support=0.2222222222222222, ordered_statistics=[OrderedStatistic(items_base=frozenset({'Star Wars: Episode V - The Empire Strikes Back (1980)', 'Matrix, The (1999)', 'Star Wars: Episode IV - A New Hope (1977)'}), items_add=frozenset({'Star Wars: Episode VI - Return of the Jedi (1983)'}), confidence=0.8322981366459626, lift=2.560590695905691), OrderedStatistic(items_base=frozenset({'Star Wars: Episode VI - Return of the Jedi (1983)', 'Matrix, The (1999)', 'Star Wars: Episode IV - A New Hope (1977)'}), items_add=frozenset({'Star Wars: Episode V - The Empire Strikes Back (1980)'}), confidence=0.9571428571428571, lift=2.748367346938775), OrderedStatistic(items_base=frozenset({'Star Wars: Episode V - The Empire Strikes Back (1980)', 'Star Wars: Episode VI - Return of the Jedi (1983)', 'Matrix, The (1999)'}), items_add=frozenset({'Star Wars: Episode IV - A New Hope (1977)'}), confidence=0.9571428571428571, lift=2.3086285714285713)])\n",
      "RelationRecord(items=frozenset({'Star Wars: Episode V - The Empire Strikes Back (1980)', 'Star Wars: Episode VI - Return of the Jedi (1983)', 'Raiders of the Lost Ark (Indiana Jones and the Raiders of the Lost Ark) (1981)', 'Star Wars: Episode IV - A New Hope (1977)'}), support=0.2023217247097844, ordered_statistics=[OrderedStatistic(items_base=frozenset({'Star Wars: Episode V - The Empire Strikes Back (1980)', 'Raiders of the Lost Ark (Indiana Jones and the Raiders of the Lost Ark) (1981)', 'Star Wars: Episode IV - A New Hope (1977)'}), items_add=frozenset({'Star Wars: Episode VI - Return of the Jedi (1983)'}), confidence=0.8531468531468531, lift=2.624732410446696), OrderedStatistic(items_base=frozenset({'Star Wars: Episode VI - Return of the Jedi (1983)', 'Raiders of the Lost Ark (Indiana Jones and the Raiders of the Lost Ark) (1981)', 'Star Wars: Episode IV - A New Hope (1977)'}), items_add=frozenset({'Star Wars: Episode V - The Empire Strikes Back (1980)'}), confidence=0.976, lift=2.8025142857142855), OrderedStatistic(items_base=frozenset({'Star Wars: Episode V - The Empire Strikes Back (1980)', 'Star Wars: Episode VI - Return of the Jedi (1983)', 'Raiders of the Lost Ark (Indiana Jones and the Raiders of the Lost Ark) (1981)'}), items_add=frozenset({'Star Wars: Episode IV - A New Hope (1977)'}), confidence=0.9838709677419354, lift=2.3730967741935483)])\n"
     ]
    }
   ],
   "source": [
    "records  = []\n",
    "for i in range(0, row):  \n",
    "    records.append([str(records_T.columns.values[j]) for j in range(0, col) if records_T.values[i,j] > 0])\n",
    "\n",
    "association_rules = apriori(records,min_support = 0.2,min_confidence=0.8,min_lift = 2,min_length=2) \n",
    "association_results = list(association_rules)\n",
    "\n",
    "print(len(association_results))\n",
    "for i in association_results:\n",
    "    print(i)    "
   ]
  },
  {
   "cell_type": "code",
   "execution_count": 45,
   "metadata": {},
   "outputs": [
    {
     "name": "stdout",
     "output_type": "stream",
     "text": [
      "Rule: Jurassic Park (1993)->Mask, The (1994)\n",
      "Support: 0.20729684908789386\n",
      "Confidence: 0.8012820512820513\n",
      "Lift: 2.038704965920156\n",
      "Rule: Jurassic Park (1993)->Speed (1994)\n",
      "Support: 0.22553897180762852\n",
      "Confidence: 0.8\n",
      "Lift: 2.0354430379746837\n",
      "Rule: Jurassic Park (1993)->Forrest Gump (1994)\n",
      "Support: 0.20563847429519072\n",
      "Confidence: 0.8493150684931506\n",
      "Lift: 2.1609155540142186\n",
      "Rule: Jurassic Park (1993)->Fugitive, The (1993)\n",
      "Support: 0.20563847429519072\n",
      "Confidence: 0.8378378378378379\n",
      "Lift: 2.1317139924734865\n",
      "Rule: Jurassic Park (1993)->Independence Day (a.k.a. ID4) (1996)\n",
      "Support: 0.20398009950248755\n",
      "Confidence: 0.8424657534246575\n",
      "Lift: 2.1434888156753944\n",
      "Rule: Jurassic Park (1993)->Speed (1994)\n",
      "Support: 0.20066334991708126\n",
      "Confidence: 0.8402777777777778\n",
      "Lift: 2.13792194092827\n",
      "Rule: Jurassic Park (1993)->Terminator 2: Judgment Day (1991)\n",
      "Support: 0.23051409618573798\n",
      "Confidence: 0.8224852071005917\n",
      "Lift: 2.0926522357875816\n",
      "Rule: Jurassic Park (1993)->Pulp Fiction (1994)\n",
      "Support: 0.22056384742951907\n",
      "Confidence: 0.8159509202453988\n",
      "Lift: 2.076027024928167\n",
      "Rule: Jurassic Park (1993)->Star Wars: Episode V - The Empire Strikes Back (1980)\n",
      "Support: 0.20066334991708126\n",
      "Confidence: 0.8705035971223022\n",
      "Lift: 2.4995889003083245\n",
      "Rule: Jurassic Park (1993)->Star Wars: Episode VI - Return of the Jedi (1983)\n",
      "Support: 0.20066334991708126\n",
      "Confidence: 0.8705035971223022\n",
      "Lift: 2.678130964616062\n",
      "Rule: Jurassic Park (1993)->Star Wars: Episode VI - Return of the Jedi (1983)\n",
      "Support: 0.20066334991708126\n",
      "Confidence: 0.952755905511811\n",
      "Lift: 2.931182709304194\n",
      "Rule: Jurassic Park (1993)->Pulp Fiction (1994)\n",
      "Support: 0.20066334991708126\n",
      "Confidence: 0.852112676056338\n",
      "Lift: 2.1680335175610628\n"
     ]
    }
   ],
   "source": [
    "input_id = 480\n",
    "for item in association_results:\n",
    "    pair = item[0]\n",
    "    items = [x for x in pair]\n",
    "    if  str(movies.loc[movies['movieId']==input_id]['title'].values[0]) in items[0] :\n",
    "            print('Rule: ' + items[0] + \"->\" + items[1])\n",
    "            print('Support: ' + str(item[1]))\n",
    "            print('Confidence: ' + str(item[2][0][2]))\n",
    "            print('Lift: ' + str(item[2][0][3]))            \n",
    "            \n",
    "        \n",
    "    "
   ]
  },
  {
   "cell_type": "code",
   "execution_count": 44,
   "metadata": {},
   "outputs": [
    {
     "data": {
      "text/html": [
       "<div>\n",
       "<style scoped>\n",
       "    .dataframe tbody tr th:only-of-type {\n",
       "        vertical-align: middle;\n",
       "    }\n",
       "\n",
       "    .dataframe tbody tr th {\n",
       "        vertical-align: top;\n",
       "    }\n",
       "\n",
       "    .dataframe thead th {\n",
       "        text-align: right;\n",
       "    }\n",
       "</style>\n",
       "<table border=\"1\" class=\"dataframe\">\n",
       "  <thead>\n",
       "    <tr style=\"text-align: right;\">\n",
       "      <th></th>\n",
       "      <th>movieId</th>\n",
       "      <th>title</th>\n",
       "      <th>genres</th>\n",
       "    </tr>\n",
       "  </thead>\n",
       "  <tbody>\n",
       "    <tr>\n",
       "      <th>418</th>\n",
       "      <td>480</td>\n",
       "      <td>Jurassic Park (1993)</td>\n",
       "      <td>Action|Adventure|Sci-Fi|Thriller</td>\n",
       "    </tr>\n",
       "  </tbody>\n",
       "</table>\n",
       "</div>"
      ],
      "text/plain": [
       "     movieId                 title                            genres\n",
       "418      480  Jurassic Park (1993)  Action|Adventure|Sci-Fi|Thriller"
      ]
     },
     "execution_count": 44,
     "metadata": {},
     "output_type": "execute_result"
    }
   ],
   "source": [
    "movies.loc[movies['title']=='Jurassic Park (1993)']"
   ]
  },
  {
   "cell_type": "code",
   "execution_count": null,
   "metadata": {},
   "outputs": [],
   "source": []
  }
 ],
 "metadata": {
  "kernelspec": {
   "display_name": "Python 3",
   "language": "python",
   "name": "python3"
  },
  "language_info": {
   "codemirror_mode": {
    "name": "ipython",
    "version": 3
   },
   "file_extension": ".py",
   "mimetype": "text/x-python",
   "name": "python",
   "nbconvert_exporter": "python",
   "pygments_lexer": "ipython3",
   "version": "3.5.5"
  }
 },
 "nbformat": 4,
 "nbformat_minor": 2
}
