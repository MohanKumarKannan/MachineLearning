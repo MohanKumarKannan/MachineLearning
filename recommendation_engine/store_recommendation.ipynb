{
 "cells": [
  {
   "cell_type": "code",
   "execution_count": 6,
   "metadata": {},
   "outputs": [
    {
     "name": "stdout",
     "output_type": "stream",
     "text": [
      "19\n",
      "Person bought  ['escalope'] also bought -->  mushroom cream sauce\n",
      "=====================================\n",
      "Person bought  ['escalope'] also bought -->  pasta\n",
      "=====================================\n",
      "Person bought  ['ground beef'] also bought -->  herb & pepper\n",
      "=====================================\n",
      "Person bought  ['tomato sauce'] also bought -->  ground beef\n",
      "=====================================\n",
      "Person bought  ['olive oil'] also bought -->  whole wheat pasta\n",
      "=====================================\n",
      "Person bought  ['pasta'] also bought -->  shrimp\n",
      "=====================================\n",
      "Person bought  ['frozen vegetables', 'shrimp'] also bought -->  chocolate\n",
      "=====================================\n",
      "Person bought  ['spaghetti', 'frozen vegetables'] also bought -->  ground beef\n",
      "=====================================\n",
      "Person bought  ['frozen vegetables', 'mineral water'] also bought -->  shrimp\n",
      "=====================================\n",
      "Person bought  ['spaghetti', 'frozen vegetables'] also bought -->  olive oil\n",
      "=====================================\n",
      "Person bought  ['spaghetti', 'frozen vegetables'] also bought -->  shrimp\n",
      "=====================================\n",
      "Person bought  ['spaghetti', 'frozen vegetables'] also bought -->  tomatoes\n",
      "=====================================\n",
      "Person bought  ['spaghetti', 'ground beef'] also bought -->  grated cheese\n",
      "=====================================\n",
      "Person bought  ['ground beef', 'herb & pepper'] also bought -->  mineral water\n",
      "=====================================\n",
      "Person bought  ['spaghetti', 'ground beef'] also bought -->  herb & pepper\n",
      "=====================================\n",
      "Person bought  ['spaghetti', 'ground beef'] also bought -->  shrimp\n",
      "=====================================\n",
      "Person bought  ['spaghetti', 'milk'] also bought -->  olive oil\n",
      "=====================================\n",
      "Person bought  ['soup', 'mineral water'] also bought -->  olive oil\n",
      "=====================================\n",
      "Person bought  ['spaghetti', 'pancakes'] also bought -->  olive oil\n",
      "=====================================\n"
     ]
    }
   ],
   "source": [
    "import numpy as np  \n",
    "import matplotlib.pyplot as plt  \n",
    "import pandas as pd  \n",
    "from apyori import apriori  \n",
    "\n",
    "store_data = pd.read_csv('C:\\\\Users\\\\User\\\\Desktop\\\\Workspace\\\\ML\\\\recommendation_engine\\\\input\\\\store_data.csv',header =None) \n",
    "\n",
    "row,col = store_data.shape \n",
    "records = []  \n",
    "for i in range(0, row):  \n",
    "    records.append([str(store_data.values[i,j]) for j in range(0, col) if str(store_data.values[i,j]) !='nan'])\n",
    "    \n",
    "association_rules = apriori(records, min_support=0.0050, min_confidence=0.2, min_lift=3, min_length=2)  \n",
    "association_results = list(association_rules)   \n",
    "\n",
    "print(len(association_results))\n",
    "\n",
    "for item in association_results:\n",
    "\n",
    "    # first index of the inner list\n",
    "    # Contains base item and add item\n",
    "    pair = item[0] \n",
    "    items = [x for x in pair]\n",
    "    print('Person bought ', items[:-1] , 'also bought --> ' , items[-1])\n",
    "    #print(\"Rule: \" + items[0] + \" -> \" + items[1])\n",
    "\n",
    "    #second index of the inner list\n",
    "    #rint(\"Support: \" + str(item[1]))\n",
    "\n",
    "    #third index of the list located at 0th\n",
    "    #of the third index of the inner list\n",
    "\n",
    "    #print(\"Confidence: \" + str(item[2][0][2]))\n",
    "    #print(\"Lift: \" + str(item[2][0][3]))\n",
    "    print(\"=====================================\")"
   ]
  },
  {
   "cell_type": "code",
   "execution_count": null,
   "metadata": {},
   "outputs": [],
   "source": []
  }
 ],
 "metadata": {
  "kernelspec": {
   "display_name": "Python 3",
   "language": "python",
   "name": "python3"
  },
  "language_info": {
   "codemirror_mode": {
    "name": "ipython",
    "version": 3
   },
   "file_extension": ".py",
   "mimetype": "text/x-python",
   "name": "python",
   "nbconvert_exporter": "python",
   "pygments_lexer": "ipython3",
   "version": "3.5.5"
  }
 },
 "nbformat": 4,
 "nbformat_minor": 2
}
