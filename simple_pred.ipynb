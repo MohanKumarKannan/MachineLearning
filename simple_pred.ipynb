{
 "cells": [
  {
   "cell_type": "code",
   "execution_count": 2,
   "metadata": {},
   "outputs": [],
   "source": [
    "import numpy as np\n",
    "import pandas as pd\n",
    "from datetime import datetime\n",
    "from dateutil.relativedelta import relativedelta, TH\n",
    "from sklearn import preprocessing, cross_validation, svm,linear_model\n",
    "from sklearn.preprocessing import MinMaxScaler\n",
    "\n",
    "\n",
    "\n",
    "#data = pd.read_csv('Input/tv18_5years.csv', header=0,index_col=False)\n",
    "\n",
    "data = pd.read_csv('Input/tv18_all.csv', header=0,index_col=False)\n",
    "\n",
    "\n",
    "data = data[['Date','Open','High','Low','Close','Volume']]\n",
    "data.fillna(value=-99999, inplace=True)\n",
    "\n",
    "def calc_last_thursday(year_mon):\n",
    "\n",
    "    input_date = pd.to_datetime(year_mon + ('-01'))\n",
    "    cmon = input_date.month\n",
    "    \n",
    "    for i in range(1, 6):\n",
    "        t = input_date + relativedelta(weekday=TH(i))\n",
    "        if t.month != cmon:\n",
    "            # since t is exceeded we need last one  which we can get by subtracting -2 since it is already a Thursday.\n",
    "            t = t + relativedelta(weekday=TH(-2))\n",
    "            break\n",
    "    return t.strftime('%Y-%m-%d')\n",
    "\n",
    "\n",
    "y_label = data[['Date','Close']].loc[1:]\n",
    "date_calc = y_label['Date'].str[0:7].drop_duplicates()\n",
    "option_end_Date = []\n",
    "for i in date_calc:    \n",
    "    option_end_Date.append(calc_last_thursday(i))   \n",
    "    \n",
    "l=[]\n",
    "for i in range(1,len(data)):\n",
    "    p = i-1\n",
    "    if (data['Close'].loc[p] != -99999.000000) or (data['Close'].loc[p] != \"null\"):   \n",
    "        oed = 1 if (str(data['Date'].loc[i])) in option_end_Date else 0        \n",
    "        k= data['Date'].loc[i],data['Open'].loc[p],data['High'].loc[p],data['Low'].loc[p],data['Volume'].loc[p],oed\n",
    "        l.append(k)    \n",
    "\n",
    "        \n",
    "labels= ['Date','Open','High','Low','Volume',\"Option EndDate Ind\"]\n",
    "df2 = pd.DataFrame.from_records(l, columns=labels)\n",
    "df3=y_label.join(df2.set_index('Date'), on='Date')        "
   ]
  },
  {
   "cell_type": "code",
   "execution_count": 3,
   "metadata": {},
   "outputs": [],
   "source": [
    "# Training and test data preparation\n",
    "#df3=df1.join(df2.set_index('Date'), on='Date')\n",
    "split_data = np.array(df3.drop(['Date'], 1))\n",
    "\n",
    "\n",
    "def cross_validate(split_data):\n",
    "    n=len(split_data)\n",
    "    train_start = 0\n",
    "    train_end = int(np.floor(0.9*n))\n",
    "    test_start = train_end\n",
    "    test_end = n\n",
    "    data_train = split_data[np.arange(train_start, train_end), :]\n",
    "    data_test = split_data[np.arange(test_start, test_end), :]\n",
    "    y_train = data_train[:,0]\n",
    "    y_test = data_test[:,0]\n",
    "\n",
    "    X_train =data_train[:,1:]\n",
    "    X_test =data_test[:,1:]\n",
    "    \n",
    "    return X_train,y_train,X_test,y_test \n"
   ]
  },
  {
   "cell_type": "code",
   "execution_count": 4,
   "metadata": {},
   "outputs": [],
   "source": [
    "X_train,y_train,X_test,y_test = cross_validate(split_data)\n",
    "scaler = MinMaxScaler()\n",
    "scaler.fit(X_train)\n",
    "X_train = scaler.transform(X_train)\n",
    "X_test = scaler.transform(X_test)"
   ]
  },
  {
   "cell_type": "code",
   "execution_count": 37,
   "metadata": {},
   "outputs": [
    {
     "data": {
      "text/plain": [
       "array([0.15668101, 0.15539413, 0.16298942, 0.04547375, 0.        ])"
      ]
     },
     "execution_count": 37,
     "metadata": {},
     "output_type": "execute_result"
    }
   ],
   "source": [
    "\n",
    "#regression =linear_model.ARDRegression()\n",
    "#regression.fit(X_train, y_train)\n",
    "#predicted = regression.predict(X_test)"
   ]
  },
  {
   "cell_type": "code",
   "execution_count": 5,
   "metadata": {},
   "outputs": [
    {
     "name": "stdout",
     "output_type": "stream",
     "text": [
      "running for: SVR(C=1.0, cache_size=200, coef0=0.0, degree=3, epsilon=0.1, gamma='auto',\n",
      "  kernel='rbf', max_iter=-1, shrinking=True, tol=0.001, verbose=False)\n",
      "45.53 46.65\n",
      "45.73 46.05\n",
      "47.11 45.9\n",
      "47.37 46.7\n",
      "Mean squared error: 3.36\n",
      "Variance score: 0.96\n",
      "running for: LinearRegression(copy_X=True, fit_intercept=True, n_jobs=1, normalize=False)\n",
      "46.27 46.65\n",
      "46.01 46.05\n",
      "46.52 45.9\n",
      "47.61 46.7\n",
      "Mean squared error: 2.24\n",
      "Variance score: 0.98\n",
      "running for: BayesianRidge(alpha_1=1e-06, alpha_2=1e-06, compute_score=False, copy_X=True,\n",
      "       fit_intercept=True, lambda_1=1e-06, lambda_2=1e-06, n_iter=300,\n",
      "       normalize=False, tol=0.001, verbose=False)\n",
      "46.27 46.65\n",
      "46.02 46.05\n",
      "46.52 45.9\n",
      "47.61 46.7\n",
      "Mean squared error: 2.24\n",
      "Variance score: 0.98\n",
      "running for: ARDRegression(alpha_1=1e-06, alpha_2=1e-06, compute_score=False, copy_X=True,\n",
      "       fit_intercept=True, lambda_1=1e-06, lambda_2=1e-06, n_iter=300,\n",
      "       normalize=False, threshold_lambda=10000.0, tol=0.001, verbose=False)\n",
      "46.27 46.65\n",
      "46.01 46.05\n",
      "46.74 45.9\n",
      "47.59 46.7\n",
      "Mean squared error: 2.23\n",
      "Variance score: 0.98\n",
      "running for: TheilSenRegressor(copy_X=True, fit_intercept=True, max_iter=300,\n",
      "         max_subpopulation=10000, n_jobs=1, n_subsamples=None,\n",
      "         random_state=None, tol=0.001, verbose=False)\n",
      "46.43 46.65\n",
      "46.06 46.05\n",
      "46.81 45.9\n",
      "47.7 46.7\n",
      "Mean squared error: 2.18\n",
      "Variance score: 0.98\n"
     ]
    }
   ],
   "source": [
    "classifiers = [svm.SVR(),\n",
    "               linear_model.LinearRegression(),\n",
    "               linear_model.BayesianRidge(),\n",
    "               linear_model.ARDRegression(),\n",
    "               linear_model.TheilSenRegressor()\n",
    "              ]\n",
    "\n",
    "for i in classifiers:\n",
    "    print(\"running for: %s\" % i )\n",
    "    regression = i\n",
    "    regression.fit(X_train, y_train)\n",
    "    predicted = regression.predict(X_test)\n",
    "    for i in range(len(y_test)-1,len(y_test)-5,-1):\n",
    "        print(np.round(predicted[i],2),np.round(y_test[i],2))\n",
    "    print(\"Mean squared error: %.2f\" % np.mean((predicted - y_test) ** 2))\n",
    "    print('Variance score: %.2f' % regression.score(X_test, y_test))\n",
    "    \n",
    "    "
   ]
  },
  {
   "cell_type": "code",
   "execution_count": null,
   "metadata": {},
   "outputs": [],
   "source": []
  }
 ],
 "metadata": {
  "kernelspec": {
   "display_name": "Python 3",
   "language": "python",
   "name": "python3"
  },
  "language_info": {
   "codemirror_mode": {
    "name": "ipython",
    "version": 3
   },
   "file_extension": ".py",
   "mimetype": "text/x-python",
   "name": "python",
   "nbconvert_exporter": "python",
   "pygments_lexer": "ipython3",
   "version": "3.5.5"
  }
 },
 "nbformat": 4,
 "nbformat_minor": 2
}
